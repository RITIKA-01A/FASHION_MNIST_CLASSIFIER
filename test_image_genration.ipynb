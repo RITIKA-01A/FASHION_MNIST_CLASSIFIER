{
 "cells": [
  {
   "cell_type": "code",
   "execution_count": 1,
   "id": "5e45e50e",
   "metadata": {},
   "outputs": [
    {
     "name": "stdout",
     "output_type": "stream",
     "text": [
      "Saved sample images in 'fashion_mnist_samples' folder!\n"
     ]
    }
   ],
   "source": [
    "import numpy as np\n",
    "import matplotlib.pyplot as plt\n",
    "import tensorflow as tf\n",
    "import os\n",
    "\n",
    "# Load Fashion MNIST dataset\n",
    "(X_train, y_train), (X_test, y_test) = tf.keras.datasets.fashion_mnist.load_data()\n",
    "\n",
    "# Define class labels\n",
    "class_labels = [\n",
    "    \"T-shirt_top\", \"Trouser\", \"Pullover\", \"Dress\", \"Coat\",\n",
    "    \"Sandal\", \"Shirt\", \"Sneaker\", \"Bag\", \"Ankle_boot\"\n",
    "]\n",
    "\n",
    "# Create a folder to store images\n",
    "output_folder = \"fashion_mnist_samples\"\n",
    "os.makedirs(output_folder, exist_ok=True)\n",
    "\n",
    "# Save 10 sample images (one per class)\n",
    "for class_idx in range(10):\n",
    "    idx = np.where(y_test == class_idx)[0][0]  # Get first occurrence of the class\n",
    "    img = X_test[idx]\n",
    "\n",
    "    plt.imsave(f\"{output_folder}/{class_labels[class_idx]}.png\", img, cmap=\"gray\")\n",
    "\n",
    "print(f\"Saved sample images in '{output_folder}' folder!\")\n"
   ]
  },
  {
   "cell_type": "code",
   "execution_count": null,
   "id": "44bd816c",
   "metadata": {},
   "outputs": [],
   "source": []
  }
 ],
 "metadata": {
  "kernelspec": {
   "display_name": "Python 3",
   "language": "python",
   "name": "python3"
  },
  "language_info": {
   "codemirror_mode": {
    "name": "ipython",
    "version": 3
   },
   "file_extension": ".py",
   "mimetype": "text/x-python",
   "name": "python",
   "nbconvert_exporter": "python",
   "pygments_lexer": "ipython3",
   "version": "3.11.5"
  }
 },
 "nbformat": 4,
 "nbformat_minor": 5
}
